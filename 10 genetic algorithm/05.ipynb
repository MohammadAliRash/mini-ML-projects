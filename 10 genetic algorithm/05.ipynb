{
 "cells": [
  {
   "cell_type": "markdown",
   "metadata": {},
   "source": [
    "![1.png](data:image/png;base64,iVBORw0KGgoAAAANSUhEUgAAAWoAAAEzCAIAAACXO96LAAAAAXNSR0IArs4c6QAAAARnQU1BAACxjwv8YQUAAAAJcEhZcwAADsMAAA7DAcdvqGQAAB2WSURBVHhe7Z3tWeS8EkRJgRhIgRw2BGIgBTLYDMiACIiABEiADMjh3rNTol/hLzxteRjbdX7MM27JsiV3l1ry7HLzP2OMSWH5MMYksXwYY5JYPowxSSwfxpgklg9jTBLLhzEmieXDGJPE8mGMSWL5MMYksXwYY5JYPowxSSwfxpgklg9jTBLLhzEmieXDGJPE8mHyfH5+3t3d3ZwopmPz8fHx/Pz88PAQwwJ//vzByFiVSjvCT93keXp6KiFyePl4eXm5v7/XUKAdjMzfv3/5DB25vb2lTqm9FywfJsnb25sCQxTrUSmjcHPz+PhYTF9gKWU3N+/v78W6CywfJkmdn0OxbgrdOWlCOV6AmmKdUo4rWLaQeqhCX1w2jeXDZCDkCIatL1505w3l4/X1tRx/JxKQQX3ZLpYPczZk4EQC2QfzqqICStmm0J03kY9ppLZg+TBHR3uEmmkVFaCibaE7v4B8PDw86FpevLRBoxnotRafPEstqlkuMuj1VlNdCp3SPvg32TV6r/qA3/d3v0vZd0rZ//5Xny5KwQgxz0wzluVeP+pgzKLqDuhwjHhwfPafGqMRD72YLsLpxleXj3rv4+3trVi/w5iExOC0xfoFLcTy5/n5uVivgF+TD0aks3JmZGOUAyzytunSmlpl+OQqHNYq0Hk8Hx8f8coN+I6llH0vpbWxxx/oQtxYR6e4q2iHUg5LwaZgNNSFGCIdgg4HqV89AMNYCk4wUKVgp/IR3R9LPfDhjm/XzlN7Dlg+/qMMyWm8+ORBKq5qsUCVp0tPLf1HKAWDXkcp4y471AIBVJPcQF/7JXOd1sagJvfWF7XwocHSc2EE1FqaXMxobOtz1RqU4x6MHl3mhhm9eDShwp2OUEH2y6CLricfdDlyirGr4IqMD+5BZbIwVa7HIQZNxNBdA9ciH9AJqnpSgk62X5cW0xcx3B2NgNCIvoRzdRXxLGuZ4DsW6LfWR8HQb1wCJJosWzpRlyARM9JfxrAeH7UG5bgH8RMDEk9NV1fkxCEtrxfJg9Q30xD6xVNGEdQ7HHJiwuBR1jNTuKgOY+qiBY2e7FfCtchH/xEyoKVs5AGXsp7uSD4Y8XJcEWE82GCkJ7X20w6Wicf/I7XS9ZVlK0So17NfrWLFNAmNqLJGWGPL+Kj08uhm2spHzF6CQUNH6kGbJrJUTlEyUovLtXEt8jE4vqUsVToIjqJTxjwmnr0q6Fku8e9IaoDWinWDaGQ6S0VGXl2DYvoJza58Ssrbhu65nG688T3gLTQIPO5IJYABnJPAxmRDC0gPXK12wFXLB2M3URqh3lA+eFRxUfk3n6XsfGLGhsFsaCvIp+lLJwAS8hGzK1xATzu5QILSUBaGKERkjhZEggbUX5L2XoCrlo9pgVhDPiC2r4BLFOv54ChKzgEHuuY5ZJqQ1P6g9eVDloknEivE/p73Gvy6fEA9J81RzKh85doBe5YPhJxpk/SBmhHJYkI+IGbIJS4eW+7XP4dMEx1h0DrUqQSHDLVcf0I+YjU3P/WgNR4f7ZfjduhO1mi5A5fQteDHiSQGfHqxw7DQLL4dcsMXRvWSzrZP+cASpcz8PA8GWmMtI99L1R71igNym51a+Igmr1p+kdKNcxh8XiIUh+dSTOMQCXMeWZr1Wu7AgOhaMDE4QJfD/SY23aJBPE0qw2fozvQlGrJD+YjNJ0azo984iorGPEYrDp4fbcZTPFfO4wZgpVct3F65QJYmMVPfRjFNopVLDOzEPMyDq1Mb2LR80FNdCwadWVANVY3xmdh308h3KnC6ziU0imll9iYfGlYYHMEf5UMuq3whVOCsnYtIzmF+fn4u0c00l5cPjacyQZ0ylpdpBuYJ0n4E3hpBvl7LHWqvGJuN6KmW2FGZw1I2mwiKcrwye5OPcM1Bn4gJbbBUc2Ot6JENzhSCeuHT1y+1Vg52wXz5kHZIiOOsidmV+uXbmkHequXo0dg0E/vxuEcxfSe0Q+lq+PZYg2PoxLGrNOeq5QNvmyidlo++a9Zrir7HyAM6es/Di3uoHXqQ8ADgS+fBoyzY+5qyaSJsoJgqNOCMg3QZNPFi0SFjq5pYGJmxaVmVNyEfY02Fr3YqMAI4Kr4hz2GCkR2j6ofXMYYTaisYRs1e66W9Ha5aPkrZT6V1DhwawTjG0GshjYWHp9JOGOO4Gvd+Oh2uT4Ux/xaRqlCTKxbrF3KgNWLgF5mWjxhtUetv6CxGnJ6hY9D4Uoq/o5prDF2rlutxqLspQgs6kxPILuopJ7IVGdX+j/epC02MZHN+Uz5q98KBOn2eX1qPO4Rr1iDzBH88ZoY4JIkvHMqu1LGmvlB9VodwEep0VEbipdKx1f4WYcxDMaHv3DHlQmc+DFEW/UGrUZ1++8tp1TI3r6YEHkibQK8je+37cHgj9EcgfFL8mFBo4pweyeb8mnzUvhWUspHSGJfpUh4STy4eG88SZ9WTqx8YUK1jAYxqBwYvNKggcblp+lnJRukETFCKT2hM+OyLMoTgElfTHq9q9XNpRcOWcTDmBjqFz9SRzyHGwQ4q4IER6DsGp8QA/niHv6Id8JvZhzFzOIXYtcvHL/Jb2gGWD3Pt7CPIV0K7JL+iHWD5MNeO5WMMJAPh+C3tAMuHuXYsH4N8fr2m7WjHx+knAmN7/G2xfJhr56Qelo8u2tfvvyfWa77LbNJbPsz1wrxavxHf02vvhcRbmzFKvZWxfJhrZPCVeXCZzPyamR4fKPVWxvJhjEli+TDGJLF8GGOSWD6MMUksH8aYJJYPY0wSy4cxJonlwxiTxPJhjEli+TDGJLF8GGOSWD6MMUksH8aYJJYPY0wSy4cxJonlwxiTxPJhjEli+TDGJLF8GGOSWD6MMUksH8aYJJYPY0wSy4cxJonlwxiTxPJhjEli+dgDHx8fT09Pnb88xuHj4+PLy8tl/typOSCWj80TfwV2jIeHh1LVmKZYPraN/pw63N3dkWh8fn5i5JPvt7e3KvLfpjcrYfnYMM/PzxKI+/t7CUdN/BH2hX9Q+vX1Ve28v78XkzEnLB8bhoxjIrARFJX2leUslOCQy5RjY76wfGwVJEPqgIgUU4/p0ploEeQNFNPH8rFVWJKc1OPfG5ZiWoFYH/GlmIz5wvKxVUI+oJia0tl/7fD09FTqmQNj+dgqHx8fJZRXeLdyf39fmh4BZSlVzYGxfGyY+ndiaywuQqFQk2IypsLysWEI73px8fDwsPAlS4d4Zfv4+FhMxlRYPrbN+/t7rSB8J+ZL2WLi96xeqphBLB+bBwXpbFW0ivZo1v9qxgxi+dgJf//+VaiLJgqippb/csTsFcvHfqgXMnxZuA8SL4b9gzEzhuVjV8RPUWFhAhLpjH8wZsawfOwNkgWF/cIfg8RbYSSpmIz5juVjb0TWsFA+Yh1Ujo3pYefYGFKHiX+DH/8DyJJFRyyCVv0HNWbrWD42htYUE9IQ/4p/ydvWsX+Ph6xgafvjNLNdLB8bQ1E99jI1Uo/B34nGugaKaYRB+UA1WNF0Wq7/5d5ETmR2ieVjS9QvVgjs+IEpgc13JSYw+J+PQUI+QKLAJ9rRb9nycWQsH1vi5ev/H5xg4l++zJcPiEVQMKhKlo8jY/nYEsoyUAE0InINweHT09P0S9az5OPj4yPeASMcY7stlo8jY/kwxiSxfBhjklg+jDFJLB/GmCSWD2NMEsuHMSaJ5cMYk8TyYYxJYvkwxiSxfBhjklg+jDFJLB/GmCSWD2NMEsuHMSaJ5cMYk8TyYYxJYvkwxiSxfBhjklg+jDFJLB/GmCSWD2NMEsuHMSaJ5cMYk8TyYYxJYvkwxiSxfBhjklg+jDFJLB/GmCSWD2NMEsuHMSaJ5cMcl8/Pz7u7u5sTxTTJy8vLw8PD7e2tTvnz58/z8zONlOLjYfkwG+Pj4+Pv37/EbTlewNPTk4QAimkENALhUM3Hx0duIA4RoPf391LvYFg+zGZ4e3uLoCWAizULrakpUawjkGhQh7yjVgqSEZ2L/Zg5iOVjG8hNl8fMFiEyCdRYZYjlQ9FpsFiHCJnoX5RMREV8KaYjYfnYBvLRo8kH6xTWF7HXIAj75TsOjCRNzVy8hND0L0oyoiLgbov1MFg+toEc9DjyUa9TAmZ47KXGAhTziAJyoJahlPV4fX1VBdYvxfSdULcm2zHbwvKxDeSgu5ePwXVKk3Sj5v7+nmbRBb7rEqCiPrE8GRt8bYsAeldMh8Hy0QUvkfvy2d9Rx+dUypxTTBfh5J/N5INQJCo0beL9/cjkQiq9WEj01yl85yabv9SgazQeqYSuBTrsI62BseRCDQKOUUyHwfLxjZhqRMchYgsNtisfiEWEhKDXpexEPQgXkI/+OoXbY6gbphsBIqVLxD6FDkGHfUrxzc3YuinkA4rpMFg+/kOzH16C40ZGGk7DF1nE2Ep4JXTRJvJBcALxAzHbl7LvwQBNrjgIg9xZp6yUbtTosdad0qWhHH+HISrF4/IRmyNQTIfB8vEfzIGRoHbe1UWk6RCnXy+uBqlvZgl0BO2IEI1EQ7GhSKCnfFHkjMXMQriBUC7gllZKN2p4uFyLZ1dfSDcA5fg79ZwxNhRz6uwVy8cwMe0oy8C/+Y6Lq/Ty6Gaaa1atkpJIWHX+F3XIXWZUYwKoI7y+jWL6zhxpmFNnr1g+RlFezad+HXDhdKPDyTnb30OoJGmIJPIyAXD57EPLls5WTh35xfSdOdIwp85esXyMUu8g8r1YVyN2W9KUhs6k3n24ZHp1yb0PJVm0j1wW04nm8tFpf/dYPkbRUhku8/Lyt+Qj3nqMvZhcG8Jv1TcvtKNMp5+79eVDllCKukIYO/QbOQ6Wj1GYBuUT81MPPAnXX2OZoztZo+VQyenUg3mVCrHGEXxvJTq0v9LvPkKbGL0OtK8i4DBuoFYKlYJ+ZtZHqY0opsNg+RglfIsEu5jGwcsjfcARi7UdK7XMzBxyMK2S6h1DEVFE2CjYKJJlOf0VDXCISKWTkdLKOdTyEYo2NvjYVaHhOGwFy8cwmpPDdSZ8l2mznsRgQ/KhmVndREeKdQhig2qdtX1Ezlhin4YGOysaYJzbXojWStPjiUPMCmPyGk+f5KWYDoPlYwClo7hvhMdY4qo3CHgYjojEqPJW5EN+j1BGhJw7w0f4rdFl6K9oYGEyUjNHPsIHxuQ10rcxJ9kxlo8u0g58FAcN95qYWKhfvq2WI0DzlqUdSCTfI0LODYAYn1Y7IIPwIPormiZDMUc+kLBSY+jFSpRye8V0JCwf/5Bk4KZas4B27LDoMJwDC3P12H6eKl+tfCAZTJV0QdohicSOaqh97KqprRyVThC604+rNSDa633QYl3AHPmAyM76F40RqGeR42D5+Ec4gahdIVJTjIQT7ksuPRZXqtnEszs0aTnCAOhFiCDdqY1oAcpCZZWOQTUtK9bo7wRclys2yXdmykf0FOoEjbGSXUncAbF8/KOOq5iBReQjoo66PqpztfKhRkRntoxZXShJKWVDUCph7QzXhtBkoP7C9NiGUgBnUVkZnA6nx2rHWD7+oXU1n4Nz2tPXf2mHo0xoB6jadcoHU6gaIeyZdYv1CwJAGkqQEBi71w6e42kwupTiIeg14x/ZKAOFP/RH8lBYPloix7pO+WjFDrTDtMLy0ZLrCfL1aKUdGqs0+x7krWD5aMnuPVsL/iZ5h8YqjeXjGrB8tGTfnk2/6B0L/nL8BWry42sas0ssHy3ZsXzoHScrl86uql5JeB/kmFg+2kAUxQsawml/v1/Wy6kxvJQ4JpaPpdS/Gemzjxd79c+rBrF8HBPLhzEmieXDGJPE8mGMSWL5MMYksXwYY5JYPowxSSwfxpgklg9jTBLLhzEmieXDGJPE8mGMSWL5MMYksXwYY5JYPowxSSwfxpgklg9jTBLLhzEmieXDGJPE8mGMSWL5MMYksXwYY5JYPowxSSwfxpgklg9jTBLLhzEmieXDGJPkiPLx+fn58vKivwtf/sjizc3d3R2WffxNSdOK19dXvOL+/h4PeX5+LtYRcKqHh4fb21t5FN7FKZ2/KL4zjiUfqAMPWE8X+P73hPxD+I/Fb5qPjw8e6I+h/iM0EkIgkINS1gONCL/Cfzg3DpmW3t/fS73dcSz5iHQDvcDPivUEDqci4PEXq9kO9dyw5AkS7TGdEPw09WNOKr9CbmqlIBlRI9j3moMcVD462iGilOddTFsg/vz9MVdeWooS5xoEkZYPmlLSwefMFCZkon9RMhEV7TWlPaJ8jD3L8APYUMJ5WPlgDnh6elK0B+hIesfh9fVVjdDmfAcI5epflEZUBIMz1tY54tbpGBGHsKFQPKB80NN6D0swKywZAcI7lGh+O6E4zEzF9J1oc/l2zBVi+fiPiENw9nGFDK5TlqQbNbF0PWvhE8uTsbOiWfSumHaE5eM/YveUGaOYvoOP4i6aT3CLvsviQyq9pK80l48r7GZ/ncJ3brKVyscY0uxZShSbrGPJBWOlCshcMe0Iy8d/hCsMziR4Vf1+F3DfUnYiJiLYrnxcWzfpFFcp1zvB7ZGDnBXkP5JLPUBnwdjgh3xAMe0Iy0chgpBZYtA18VpgGqwXyaXsu5fAuV64hLbycSXd5BF01ilt040aelquceYGZ33i2ODH5ggU046wfPwDZ5Wn4qODDoqjEFRRFDOwnEYuwrl8kUs1ieSZNJSPK+kmNxDKBdxS83SjJhatWl/QNSyRjwA3gFD2byBGHsaGYk6d7WL5+Eekx7hpMU1CNdXHq/A2fB3WmBjnEA7a3Dt/q5t1yM18IkuIp8+XSK+QDBSETx0C4tLp+xxpmFNnu1g+/vf09KSnO99TNfcC87M87Bc9Ixy0+T38VjcvnH3UiQbX7SQadDluhjsp1hMx8jA2MnPqbJejy0dMsGM752PUy/ILzJDlSlmIkNLQmVy4mwEBzOXqqxPDK+19lAuc8gsUs1gruGip8X0QzpWPwcY3zaHlI7QDvyym2UTGe67u5NC10qTl48Ld7EP4xT2I5slIaXdyJ7he4BTT+fJRTDviuPIRGXJCOyD22+bPyXgSrj/hoznCQcc8eAkzu8lgUpPQqvMFDl9fX0uNZTBvr/e7j9LipHzUeyLFdEJGGOtpTFFQTDvioPKxUDuY+nAj+cScFrhcLLA3JB/zu6k69FHxzIkRbw3721/RAIco15JkJFRpjnxAMZ348dw4MZ0AXjNHlI+Iis5MMh+lsnKd6UaYNgm8f+7zRcNwEuvJx/xuDlYIxSzH7aCnurcaxjk3AnOUPVQAtSqmE3HumLzG0yd7KqYdcUT5iKjITVlyCGa8cJ2xdpTjUA23po4qb0U+5ndzjAi5tjcW9Fc0kEhG4tXbRIRHXxiNYjoR9jF5xa4KrdZxV8Xh5EO/fYIxn8YpKR0LcgUVAsT3cJ0Jz6i3DFR5rOU0a8jHud0cJE5sskMxBkrRX9GcNcjcns7qZBY1keygTcV0Qt4i+F6sX0TpRMub5ljygatpshpzL563pou6ArGEkXMVVLiCJrdQIuyqqT2OsalPlc/y7Dm0ko9W3QyUtlwscuh+BPm5gxwZ1uAYhr4MZqxxbv+iWFQ0vfG8XY4lH/E4f6SeZMI/AAeKuRRPqo1ID6FCZZX2UeWrlY9W3RQ/Znkrwe0xwp0c4UfoF72LPhbriZhRYFAFqKBzoU7Qok0lcbvkQPJBGMRj/pHa6YvpRMeBYroTmr1LWQ/VuVr5UCNiSTchImdDs27cM9BfHhNExymaWLv1z1UGp8Ppsdo0B5KPCLM5RCgyt8hCzPTjE8/QpI334DHTjqJ28K1y3Igm8tGwm1vUDkG/tFUcWsAX4p+OTHcZqMCTjTxFJy55IpvgcFunv4gc6zrloxXb1Q6TwPJxORTkzeXjeohdgOXaobFKs+NBviosH5dj355N9q7UvUneobFKY/m4DJaPy7Fvz9bmSP+Vx93pLy2VA7MvLB+XY8fyQafoWvwwJCATwe59kL1i+bgE7+/v8cvo28lXgFsk3tqMsfsXEIfF8rEuSunH2EdcKfWYwPKxVywfxpgklg9jTBLLhzEmieXDGJPE8mGMSWL5MMYksXwYY5JYPowxSSwfxpgklg9jTBLLhzEmieXDGJPE8mGMSWL5MMYksXwYY5JYPowxSSwfxpgklg9jTBLLhzEmieXDGJPE8mGMSWL5MMYksXwYY5JYPowxSSwfxpgklg9jTBLLhzEmieXDGJPE8mF2yMvLy8PDw+3trf5G958/f56fnz8/P0uxaYTlw6zF29vb+/t7ObgUaATCIdV4fHz8+/dvHN7d3V3+fvaN5cOsBaFL0N7f35MLXGzmJ9HgouQdtVJwAycB+Wd3DtIQy4dZC8mHIG6fnp4+Pj5K2TqETHDpYvqCTERFfCkmsxjLh1kLFi+kHgragOyAIC81WsPyRFfppxgkIyqCtVXsOFg+zLoQq+QdEdhijWTk9fVVjaNQxfSd2El9fn4uJrMMy4e5EIR3rCACQh17qbGMaLy/chHaFoGHh4diMsuwfDSDhBkP1hSHp/bzZ9xapZdxX9L1eOnAVF+sX+huVXrJ2ZjrsnjpLGrITRichclItDnWndiL4XLFZJZh+WgDUdEJic4WXT3xXkA+0I7I1UW949C5219J5gcXNYxMOhkpTdzcvL29FdN3Qj6gmMwyPI5tIBqBkICI21L23XGBw1KwDroHBAuZGNwRiDRejMXbZegvahLJCJXLyePdiaGAYjLL8Dg2AN9FO+KHBhEM8mN5LfHMF3n52uFK+9wP2qHDmOF1yJzPd92w3nTK/rsMLmpiSH+ELpdzxod3Th1zFpaP9igmQVMowgHzI6E5tZxJy2pxuTZyQT7nrFzLZgLLR3sikSZuNZ3+rrPWciYtu0LtcPaxRSwfq1DvCBIVxfpL1PsCv5sHDdJk7+Nc+TircTOG5WMV4o3plfxCCdXQ/VyPdhDADd+8nCsfxWSW4XFcBVRDbjo/9aAmQT7m+gsJOZuedbk60/6fP39CbvhCatBQdAYXKYl0o09p6+ZmTIC4bqlh+WiEx7E9REiEB7FXrOPg7jEJryEfBH/IwYScxeQcPyfnM3Rn+Y31FymAVOXSjT7RR5SomL6DXRXqd9hmCZaP9ijk5M3oSLEOQUyu/RMMtAxtitDq//w0kHx0KnC6zk2H3OAihTZDpFoRIzkm2SFeE4NgzsLy0Rj5KIuX8GYisJR9R7k09YkiZmBVbisfkQeRgKj9aTkbJDpSjmdDXzqLFKC1iQxoCZFcjPUxbqZVvmMsHy2RdpB98D28ecxZUY0QC8380FA+Qju0ffujnI2hE8kXyvFsYgRgjXSjA42Xiw1t8UQpeVAxmcVYPpaCZBClxKS0A+9UfEZCgV01SQEIxcHonSMfnKg6UExDcAMKVGmHtAww6tyY/JGVH9N4LqrFS/RiPpIPboMrDva6OSGRXLqYvggtWyn3OSaWj6WEywKRFi8pItplJJ4JbCqrtMPM7EN1IK7Sp9Q4IV2TPeRMRl2xH2YdJDp0IRH/XGLiPteAQZbYQZ30cRuyh5iaJlg+liJnFZ2ZLV5biDqYO5wrH2PVoh2otUxEaIkfEwq6Q7V+O9dMKAUw/uijskIdJkTQTGD5WESsqJGGfkjjrLFxgBNP+O658jHWlAIeCBXurVi/ILT0BoTPH/OOLWqHYHDoHU/kNBL/usBoTA+syWH5uArmyEdIFcFfTKvRRDtiuyGNY/7KsXxcBXPkIzKLtd87apdked5h+dg9lo+rYI58aN2ReANyFto7WK4d5ghYPq6CH+VD+39ra8fn12vajnZo3eRcwHSwfFwFc+Tjx83O5Wijl1VSOf5C4tXfizUHx/Lx+yAZ8eOR++o/PbwwsbcyRqlnzBf2id+kxOUIpdKlqH//NkipZ8wX9gljTBLLhzEmieXDGJPE8mGMSWL5MMYksXwYY5JYPowxSSwfxpgklg9jTBLLhzEmieXDGJPE8mGMSWL5MMYksXwYY5JYPowxSSwfxpgklg9jTBLLhzEmieXDGJPE8mGMSWL5MMYksXwYY5JYPowxSSwfxpgklg9jTBLLhzEmieXDGJPE8mGMSWL5MMYksXwYY5JYPowxSSwfxpgklg9jTBLLhzEmxf/+93/vsSaoYTW4+QAAAABJRU5ErkJggg==)"
   ]
  },
  {
   "cell_type": "code",
   "execution_count": null,
   "metadata": {},
   "outputs": [],
   "source": [
    "import numpy as np\n",
    "import random\n",
    "import matplotlib.pyplot as plt"
   ]
  },
  {
   "cell_type": "markdown",
   "metadata": {},
   "source": [
    "**Example**"
   ]
  },
  {
   "cell_type": "code",
   "execution_count": null,
   "metadata": {},
   "outputs": [],
   "source": [
    "#Define the objective function\n",
    "def objective_function(x1,x2):\n",
    "  return 4*x1 + 3*x2\n",
    "\n",
    "#Define Constraints\n",
    "def constraint1(x1,x2):\n",
    "  return x1+x2<=40\n",
    "\n",
    "def constraint2(x1,x2):\n",
    "  return 2*x1+x2<=60"
   ]
  },
  {
   "cell_type": "markdown",
   "metadata": {},
   "source": [
    "**Genetic Algorithm Function**"
   ]
  },
  {
   "cell_type": "code",
   "execution_count": null,
   "metadata": {},
   "outputs": [],
   "source": [
    "def genetic_algorithm(population_size,num_generation):\n",
    "\n",
    "  # Initialization\n",
    "  population = []\n",
    "  fitness_history = []\n",
    "\n",
    "  for i in range(population_size):\n",
    "    x1 = random.uniform(0,40)\n",
    "    x2 = random.uniform(0,60)\n",
    "    population.append((x1,x2))\n",
    "\n",
    "  best_solution = None\n",
    "  best_fitness = float('-inf')\n",
    "\n",
    "  for generation in range(num_generation):\n",
    "    #Evaluation\n",
    "    fitness = [objective_function(x1,x2) for x1, x2 in population]\n",
    "\n",
    "    feasible_population = [individual for individual in population if \n",
    "                          constraint1(individual[0], individual[1]) and constraint2(individual[0], individual[1])]\n",
    "\n",
    "    #Selection\n",
    "    if feasible_population:\n",
    "      feasible_fitness = [objective_function(x1,x2) for x1, x2 in feasible_population]\n",
    "      parents = random.choices(feasible_population,weights=feasible_fitness,k=population_size)\n",
    "    else:\n",
    "      parents = []\n",
    "      while len(parents)<population_size:\n",
    "        potential_parents = random.choice(population,weights=fitness)\n",
    "        if constraint1(potential_parents[0],potential_parents[1]) and constraint2(potential_parents[0],potential_parents[1]):\n",
    "          parents.append(potential_parents)\n",
    "    \n",
    "\n",
    "    #Crossover\n",
    "    offspring = []\n",
    "    for i in range(population_size):\n",
    "      parent1,parent2 = random.choices(parents,k=2)\n",
    "      x1_child = random.uniform(min(parent1[0],parent2[0]),max(parent1[0],parent2[0]))\n",
    "      x2_child = random.uniform(min(parent1[1],parent2[1]),max(parent1[1],parent2[1]))\n",
    "      offspring.append((x1_child,x2_child))\n",
    "######################### \n",
    "#Parent1: (x1=10 , x2=5)\n",
    "#Parent2: (x1=20 , x2=15)\n",
    "#The minimum value is min(parent1[0],parent2[0]) = min(10,20) = 10\n",
    "#The Maximum value is max(parent1[0],parent2[0]) = max(10,20) = 20\n",
    "#random.uniform(10,20)    x1_child = 17\n",
    "#The minimum value is min(parent1[1],parent2[1]) = min(5,15) = 5\n",
    "#The Maximum value is max(parent1[1],parent2[1]) = max(5,15) = 15\n",
    "#random.uniform(5,15)    x2_child = 11\n",
    "#offspring: (x1=17,x2=11)\n",
    "#########################\n",
    "  \n",
    "    #Mutation\n",
    "    mutation_rate = 1/(generation+1) #Dynamic mutation rate\n",
    "    for i in range(population_size):\n",
    "      if random.random()<mutation_rate:\n",
    "        offspring[i] = (random.uniform(0,40),random.uniform(0,60))\n",
    "\n",
    "#mutation_rate = 1/(1+1) = 0.5\n",
    "#random.random() = 0.75\n",
    "# No mutations occur\n",
    "\n",
    "#random.random() = 0.2 < mutation_rate(0.5)\n",
    "#New values for the offspring after mutation (new_x1, new_x2)\n",
    "\n",
    "# Beginning - Exploration - High mutation rate\n",
    "# Later generations - Exploitation - Low mutation rate\n",
    "\n",
    "    #Elitism\n",
    "    if best_solution is not None:\n",
    "      offspring[0] = best_solution\n",
    "\n",
    "    population = offspring\n",
    "\n",
    "    #Find the best feasible solution\n",
    "    feasible_solutions = [(x1,x2) for (x1,x2) in population if constraint1(x1,x2) and constraint2(x1,x2)]\n",
    "    if feasible_solutions:\n",
    "      best_solution = max(feasible_solutions,key=lambda x: objective_function(x[0],x[1]))\n",
    "      best_fitness = objective_function(best_solution[0],best_solution[1])\n",
    "    fitness_history.append(best_fitness)\n",
    "\n",
    "    print(f\"Generation{generation+1}: Best solution = {best_solution},Best fitness = {best_fitness}\")\n",
    "\n",
    "  #Plot the fitness progress\n",
    "  plt.plot(range(1,num_generation+1),fitness_history)\n",
    "  plt.xlabel(\"Generation\")\n",
    "  plt.ylabel(\"Best Fitness\")\n",
    "  plt.title(\"GA - Fitness Progress\")\n",
    "  plt.show()\n",
    "\n",
    "  return best_solution,best_fitness\n"
   ]
  },
  {
   "cell_type": "markdown",
   "metadata": {},
   "source": [
    "**Call the GA Function**"
   ]
  },
  {
   "cell_type": "code",
   "execution_count": null,
   "metadata": {},
   "outputs": [
    {
     "name": "stdout",
     "output_type": "stream",
     "text": [
      "Generation1: Best solution = (19.699937820684347, 20.07228073655545),Best fitness = 139.01659349240373\n",
      "Generation2: Best solution = (19.68320602645255, 20.199775418264196),Best fitness = 139.33215036060278\n",
      "Generation3: Best solution = (19.68320602645255, 20.199775418264196),Best fitness = 139.33215036060278\n",
      "Generation4: Best solution = (19.68320602645255, 20.199775418264196),Best fitness = 139.33215036060278\n",
      "Generation5: Best solution = (20.033616960873694, 19.824298568118664),Best fitness = 139.60736354785075\n",
      "Generation6: Best solution = (20.033616960873694, 19.824298568118664),Best fitness = 139.60736354785075\n",
      "Generation7: Best solution = (20.033616960873694, 19.824298568118664),Best fitness = 139.60736354785075\n",
      "Generation8: Best solution = (20.033616960873694, 19.824298568118664),Best fitness = 139.60736354785075\n",
      "Generation9: Best solution = (20.033616960873694, 19.824298568118664),Best fitness = 139.60736354785075\n",
      "Generation10: Best solution = (20.033616960873694, 19.824298568118664),Best fitness = 139.60736354785075\n",
      "Generation11: Best solution = (20.033616960873694, 19.824298568118664),Best fitness = 139.60736354785075\n",
      "Generation12: Best solution = (20.033616960873694, 19.824298568118664),Best fitness = 139.60736354785075\n",
      "Generation13: Best solution = (20.033616960873694, 19.824298568118664),Best fitness = 139.60736354785075\n",
      "Generation14: Best solution = (20.033616960873694, 19.824298568118664),Best fitness = 139.60736354785075\n",
      "Generation15: Best solution = (20.033616960873694, 19.824298568118664),Best fitness = 139.60736354785075\n",
      "Generation16: Best solution = (20.033616960873694, 19.824298568118664),Best fitness = 139.60736354785075\n",
      "Generation17: Best solution = (20.033616960873694, 19.824298568118664),Best fitness = 139.60736354785075\n",
      "Generation18: Best solution = (20.033616960873694, 19.824298568118664),Best fitness = 139.60736354785075\n",
      "Generation19: Best solution = (20.033616960873694, 19.824298568118664),Best fitness = 139.60736354785075\n",
      "Generation20: Best solution = (20.033616960873694, 19.824298568118664),Best fitness = 139.60736354785075\n",
      "Generation21: Best solution = (20.033616960873694, 19.824298568118664),Best fitness = 139.60736354785075\n",
      "Generation22: Best solution = (20.033616960873694, 19.824298568118664),Best fitness = 139.60736354785075\n",
      "Generation23: Best solution = (20.033616960873694, 19.824298568118664),Best fitness = 139.60736354785075\n",
      "Generation24: Best solution = (20.033616960873694, 19.824298568118664),Best fitness = 139.60736354785075\n",
      "Generation25: Best solution = (20.033616960873694, 19.824298568118664),Best fitness = 139.60736354785075\n",
      "Generation26: Best solution = (20.033616960873694, 19.824298568118664),Best fitness = 139.60736354785075\n",
      "Generation27: Best solution = (20.033616960873694, 19.824298568118664),Best fitness = 139.60736354785075\n",
      "Generation28: Best solution = (20.033616960873694, 19.824298568118664),Best fitness = 139.60736354785075\n",
      "Generation29: Best solution = (20.033616960873694, 19.824298568118664),Best fitness = 139.60736354785075\n",
      "Generation30: Best solution = (20.033616960873694, 19.824298568118664),Best fitness = 139.60736354785075\n",
      "Generation31: Best solution = (20.033616960873694, 19.824298568118664),Best fitness = 139.60736354785075\n",
      "Generation32: Best solution = (20.033616960873694, 19.824298568118664),Best fitness = 139.60736354785075\n",
      "Generation33: Best solution = (20.033616960873694, 19.824298568118664),Best fitness = 139.60736354785075\n",
      "Generation34: Best solution = (20.033616960873694, 19.824298568118664),Best fitness = 139.60736354785075\n",
      "Generation35: Best solution = (20.033616960873694, 19.824298568118664),Best fitness = 139.60736354785075\n",
      "Generation36: Best solution = (20.033616960873694, 19.824298568118664),Best fitness = 139.60736354785075\n",
      "Generation37: Best solution = (20.033616960873694, 19.824298568118664),Best fitness = 139.60736354785075\n",
      "Generation38: Best solution = (20.033616960873694, 19.824298568118664),Best fitness = 139.60736354785075\n",
      "Generation39: Best solution = (20.033616960873694, 19.824298568118664),Best fitness = 139.60736354785075\n",
      "Generation40: Best solution = (20.033616960873694, 19.824298568118664),Best fitness = 139.60736354785075\n",
      "Generation41: Best solution = (20.033616960873694, 19.824298568118664),Best fitness = 139.60736354785075\n",
      "Generation42: Best solution = (20.033616960873694, 19.824298568118664),Best fitness = 139.60736354785075\n",
      "Generation43: Best solution = (20.033616960873694, 19.824298568118664),Best fitness = 139.60736354785075\n",
      "Generation44: Best solution = (20.033616960873694, 19.824298568118664),Best fitness = 139.60736354785075\n",
      "Generation45: Best solution = (20.033616960873694, 19.824298568118664),Best fitness = 139.60736354785075\n",
      "Generation46: Best solution = (20.033616960873694, 19.824298568118664),Best fitness = 139.60736354785075\n",
      "Generation47: Best solution = (20.033616960873694, 19.824298568118664),Best fitness = 139.60736354785075\n",
      "Generation48: Best solution = (20.033616960873694, 19.824298568118664),Best fitness = 139.60736354785075\n",
      "Generation49: Best solution = (20.033616960873694, 19.824298568118664),Best fitness = 139.60736354785075\n",
      "Generation50: Best solution = (20.033616960873694, 19.824298568118664),Best fitness = 139.60736354785075\n"
     ]
    },
    {
     "data": {
      "image/png": "[encoded data removed]",
      "text/plain": [
       "<Figure size 640x480 with 1 Axes>"
      ]
     },
     "metadata": {},
     "output_type": "display_data"
    },
    {
     "name": "stdout",
     "output_type": "stream",
     "text": [
      "Final best solution: (20.033616960873694, 19.824298568118664)\n",
      "Final best fitness: 139.60736354785075\n"
     ]
    }
   ],
   "source": [
    "population_size = 10000\n",
    "num_generation = 50\n",
    "\n",
    "best_solution,best_fitness = genetic_algorithm(population_size,num_generation)\n",
    "\n",
    "if best_solution is not None:\n",
    "  print(\"Final best solution:\", best_solution)\n",
    "  print(\"Final best fitness:\", best_fitness)\n",
    "else:\n",
    "  print(\"No feasible solution found within the given constraints\")"
   ]
  }
 ],
 "metadata": {
  "language_info": {
   "name": "python"
  }
 },
 "nbformat": 4,
 "nbformat_minor": 2
}
