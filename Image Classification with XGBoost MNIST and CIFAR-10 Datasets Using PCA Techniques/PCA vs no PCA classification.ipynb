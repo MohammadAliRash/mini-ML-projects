{
 "cells": [
  {
   "cell_type": "markdown",
   "metadata": {},
   "source": [
    "# Code 1: MNIST Classification"
   ]
  },
  {
   "cell_type": "code",
   "execution_count": null,
   "metadata": {},
   "outputs": [],
   "source": [
    "from sklearn.metrics import accuracy_score\n",
    "from sklearn.model_selection import train_test_split\n",
    "from sklearn.datasets import fetch_openml\n",
    "import xgboost as xgb\n",
    "import pandas as pd\n",
    "import numpy as np"
   ]
  },
  {
   "cell_type": "code",
   "execution_count": null,
   "metadata": {},
   "outputs": [],
   "source": [
    "# Step 1: Load the MNIST dataset\n",
    "mnist = fetch_openml('mnist_784', version=1)\n",
    "X = mnist.data.astype('float32')  # Features (pixel values)\n",
    "y = mnist.target.astype('int')      # Labels (digits)"
   ]
  },
  {
   "cell_type": "code",
   "execution_count": null,
   "metadata": {},
   "outputs": [],
   "source": [
    "# Step 2: Preprocess the data\n",
    "# Normalize the pixel values to [0, 1] \n",
    "X /= 255.0\n",
    "\n",
    "# Split the dataset into training and testing sets\n",
    "X_train, X_test, y_train, y_test = train_test_split(\n",
    "    X, y, test_size=0.2, random_state=42)"
   ]
  },
  {
   "cell_type": "code",
   "execution_count": null,
   "metadata": {},
   "outputs": [],
   "source": [
    "# Step 3: Train an XGBoost model\n",
    "model = xgb.XGBClassifier(use_label_encoder=False, eval_metric='mlogloss')\n",
    "model.fit(X_train, y_train)"
   ]
  },
  {
   "cell_type": "code",
   "execution_count": null,
   "metadata": {},
   "outputs": [
    {
     "data": {
      "text/plain": [
       "Test accuracy: 0.9781\n"
      ]
     },
     "metadata": {},
     "output_type": "display_data"
    }
   ],
   "source": [
    "# Step 4: Make predictions and evaluate the model\n",
    "y_pred = model.predict(X_test)\n",
    "accuracy = accuracy_score(y_test, y_pred)\n",
    "\n",
    "print(f'Test accuracy: {accuracy:.4f}')"
   ]
  },
  {
   "cell_type": "markdown",
   "metadata": {},
   "source": [
    "# Code 2: MNIST classification with PCA"
   ]
  },
  {
   "cell_type": "code",
   "execution_count": null,
   "metadata": {},
   "outputs": [],
   "source": [
    "import numpy as np\n",
    "import pandas as pd\n",
    "import xgboost as xgb\n",
    "from sklearn.datasets import fetch_openml\n",
    "from sklearn.model_selection import train_test_split\n",
    "from sklearn.decomposition import PCA\n",
    "from sklearn.metrics import accuracy_score"
   ]
  },
  {
   "cell_type": "code",
   "execution_count": null,
   "metadata": {},
   "outputs": [],
   "source": [
    "# Step 1: Load the MNIST dataset\n",
    "mnist = fetch_openml('mnist_784', version=1)\n",
    "X = mnist.data.astype('float32')  # Features (pixel values)\n",
    "y = mnist.target.astype('int')      # Labels (digits)\n"
   ]
  },
  {
   "cell_type": "code",
   "execution_count": null,
   "metadata": {},
   "outputs": [],
   "source": [
    "# Step 2: Split the dataset into training and testing sets\n",
    "X_train, X_test, y_train, y_test = train_test_split(\n",
    "    X, y, test_size=0.2, random_state=42)"
   ]
  },
  {
   "cell_type": "code",
   "execution_count": null,
   "metadata": {},
   "outputs": [],
   "source": [
    "# (a) Feature Construction: Project images onto a set of principal components (50 components)\n",
    "pca = PCA(n_components=50)\n",
    "X_train_pca = pca.fit_transform(X_train)  # Fit PCA and transform training data\n",
    "X_test_pca = pca.transform(X_test)        # Transform testing data using the same PCA model"
   ]
  },
  {
   "cell_type": "code",
   "execution_count": null,
   "metadata": {},
   "outputs": [],
   "source": [
    "# Train XGBoost model with PCA features\n",
    "model_pca = xgb.XGBClassifier(use_label_encoder=False, eval_metric='mlogloss')\n",
    "model_pca.fit(X_train_pca, y_train)"
   ]
  },
  {
   "cell_type": "code",
   "execution_count": null,
   "metadata": {},
   "outputs": [
    {
     "data": {
      "text/plain": [
       "Test accuracy with PCA (50 components): 0.9631\n"
      ]
     },
     "metadata": {},
     "output_type": "display_data"
    }
   ],
   "source": [
    "# Make predictions and evaluate accuracy\n",
    "y_pred_pca = model_pca.predict(X_test_pca)\n",
    "accuracy_pca = accuracy_score(y_test, y_pred_pca)\n",
    "print(f'Test accuracy with PCA (50 components): {accuracy_pca:.4f}')\n",
    "\n",
    "# (b) Feature Construction: Project images onto per-class principal components (500 components)\n",
    "X_train_per_class = []\n",
    "X_test_per_class = []"
   ]
  },
  {
   "cell_type": "code",
   "execution_count": null,
   "metadata": {},
   "outputs": [],
   "source": [
    "# Calculate per-class PCA components\n",
    "for digit in range(10):\n",
    "    X_class_train = X_train[y_train == digit]  # Select training data for the current digit\n",
    "    X_class_test = X_test[y_test == digit]      # Select testing data for the current digit\n",
    "\n",
    "    pca_class = PCA(n_components=50)\n",
    "    X_class_train_pca = pca_class.fit_transform(X_class_train)  # PCA for current class\n",
    "    X_class_test_pca = pca_class.transform(X_class_test)        # Transform testing data for current class\n",
    "\n",
    "    # Append the PCA features for the current class\n",
    "    X_train_per_class.append(X_class_train_pca)\n",
    "    X_test_per_class.append(X_class_test_pca)"
   ]
  },
  {
   "cell_type": "code",
   "execution_count": null,
   "metadata": {},
   "outputs": [],
   "source": [
    "# Concatenate PCA features for all classes\n",
    "X_train_per_class = np.vstack(X_train_per_class)\n",
    "X_test_per_class = np.vstack(X_test_per_class)"
   ]
  },
  {
   "cell_type": "code",
   "execution_count": null,
   "metadata": {},
   "outputs": [],
   "source": [
    "# Create labels for the new training and testing sets\n",
    "y_train_per_class = np.repeat(\n",
    "    np.arange(10), [X_train[y_train == digit].shape[0] for digit in range(10)])\n",
    "y_test_per_class = np.repeat(\n",
    "    np.arange(10), [X_test[y_test == digit].shape[0] for digit in range(10)])"
   ]
  },
  {
   "cell_type": "code",
   "execution_count": null,
   "metadata": {},
   "outputs": [],
   "source": [
    "# Train XGBoost model with per-class PCA features\n",
    "model_per_class = xgb.XGBClassifier(\n",
    "    use_label_encoder=False, eval_metric='mlogloss')\n",
    "model_per_class.fit(X_train_per_class, y_train_per_class)"
   ]
  },
  {
   "cell_type": "code",
   "execution_count": null,
   "metadata": {},
   "outputs": [
    {
     "data": {
      "text/plain": [
       "Test accuracy with per-class PCA (500 components): 0.7840\n"
      ]
     },
     "metadata": {},
     "output_type": "display_data"
    }
   ],
   "source": [
    "# Make predictions and evaluate accuracy\n",
    "y_pred_per_class = model_per_class.predict(X_test_per_class)\n",
    "accuracy_per_class = accuracy_score(y_test_per_class, y_pred_per_class)\n",
    "print(\n",
    "    f'Test accuracy with per-class PCA (500 components): {accuracy_per_class:.4f}')"
   ]
  },
  {
   "cell_type": "markdown",
   "metadata": {},
   "source": [
    "# Code 3: CIFAR-10 Classification"
   ]
  },
  {
   "cell_type": "code",
   "execution_count": null,
   "metadata": {},
   "outputs": [],
   "source": [
    "import numpy as np\n",
    "import xgboost as xgb\n",
    "from sklearn.datasets import fetch_openml\n",
    "from sklearn.model_selection import train_test_split\n",
    "from sklearn.metrics import accuracy_score\n",
    "from sklearn.preprocessing import OneHotEncoder"
   ]
  },
  {
   "cell_type": "code",
   "execution_count": null,
   "metadata": {},
   "outputs": [],
   "source": [
    "# Step 1: Load the CIFAR-10 dataset\n",
    "def load_cifar10():\n",
    "    # CIFAR-10 is available from the TensorFlow Datasets\n",
    "    from tensorflow.keras.datasets import cifar10\n",
    "    (X_train, y_train), (X_test, y_test) = cifar10.load_data()\n",
    "    # Flatten images to 1D arrays\n",
    "    X_train = X_train.reshape(-1, 3072).astype('float32') / \\\n",
    "        255.0  # Normalize pixel values\n",
    "    X_test = X_test.reshape(-1, 3072).astype('float32') / 255.0\n",
    "    return X_train, y_train.flatten(), X_test, y_test.flatten()"
   ]
  },
  {
   "cell_type": "code",
   "execution_count": null,
   "metadata": {},
   "outputs": [],
   "source": [
    "# Load the dataset\n",
    "X_train, y_train, X_test, y_test = load_cifar10()"
   ]
  },
  {
   "cell_type": "code",
   "execution_count": null,
   "metadata": {},
   "outputs": [],
   "source": [
    "# Step 2: Split the dataset into training and testing sets (optional since we already have train/test)\n",
    "# Here we are directly using the loaded data"
   ]
  },
  {
   "cell_type": "code",
   "execution_count": null,
   "metadata": {},
   "outputs": [],
   "source": [
    "# Step 3: Train an XGBoost model\n",
    "model = xgb.XGBClassifier(use_label_encoder=False, eval_metric='mlogloss')\n",
    "model.fit(X_train, y_train)"
   ]
  },
  {
   "cell_type": "code",
   "execution_count": null,
   "metadata": {},
   "outputs": [],
   "source": [
    "# Step 4: Make predictions and evaluate the model\n",
    "y_pred = model.predict(X_test)\n",
    "accuracy = accuracy_score(y_test, y_pred)\n",
    "\n",
    "print(f'Test accuracy on CIFAR-10: {accuracy:.4f}')"
   ]
  },
  {
   "cell_type": "markdown",
   "metadata": {},
   "source": [
    "# Code 4: CIFAR-10 classification with PCA"
   ]
  },
  {
   "cell_type": "code",
   "execution_count": null,
   "metadata": {},
   "outputs": [],
   "source": [
    "import numpy as np\n",
    "import xgboost as xgb\n",
    "from sklearn.datasets import fetch_openml\n",
    "from sklearn.model_selection import train_test_split\n",
    "from sklearn.decomposition import PCA\n",
    "from sklearn.metrics import accuracy_score\n",
    "from tensorflow.keras.datasets import cifar10"
   ]
  },
  {
   "cell_type": "code",
   "execution_count": null,
   "metadata": {},
   "outputs": [],
   "source": [
    "# Step 1: Load the CIFAR-10 dataset\n",
    "def load_cifar10():\n",
    "    (X_train, y_train), (X_test, y_test) = cifar10.load_data()\n",
    "    X_train = X_train.reshape(-1, 3072).astype('float32') / \\\n",
    "        255.0  # Normalize pixel values\n",
    "    X_test = X_test.reshape(-1, 3072).astype('float32') / 255.0\n",
    "    return X_train, y_train.flatten(), X_test, y_test.flatten()"
   ]
  },
  {
   "cell_type": "code",
   "execution_count": null,
   "metadata": {},
   "outputs": [],
   "source": [
    "# Load the dataset\n",
    "X_train, y_train, X_test, y_test = load_cifar10()"
   ]
  },
  {
   "cell_type": "code",
   "execution_count": null,
   "metadata": {},
   "outputs": [],
   "source": [
    "# (a) Feature Construction: Project images onto a set of principal components (50 components)\n",
    "pca = PCA(n_components=50)\n",
    "X_train_pca = pca.fit_transform(X_train)  # Fit PCA and transform training data\n",
    "X_test_pca = pca.transform(X_test)        # Transform testing data using the same PCA model"
   ]
  },
  {
   "cell_type": "code",
   "execution_count": null,
   "metadata": {},
   "outputs": [],
   "source": [
    "# Train XGBoost model with PCA features\n",
    "model_pca = xgb.XGBClassifier(use_label_encoder=False, eval_metric='mlogloss')\n",
    "model_pca.fit(X_train_pca, y_train)"
   ]
  },
  {
   "cell_type": "code",
   "execution_count": null,
   "metadata": {},
   "outputs": [],
   "source": [
    "# Make predictions and evaluate accuracy\n",
    "y_pred_pca = model_pca.predict(X_test_pca)\n",
    "accuracy_pca = accuracy_score(y_test, y_pred_pca)\n",
    "print(f'Test accuracy with PCA (50 components): {accuracy_pca:.4f}')"
   ]
  },
  {
   "cell_type": "code",
   "execution_count": null,
   "metadata": {},
   "outputs": [],
   "source": [
    "# (b) Feature Construction: Project images onto per-class principal components (500 components)\n",
    "X_train_per_class = []\n",
    "X_test_per_class = []"
   ]
  },
  {
   "cell_type": "code",
   "execution_count": null,
   "metadata": {},
   "outputs": [],
   "source": [
    "# Calculate per-class PCA components\n",
    "for digit in range(10):\n",
    "    X_class_train = X_train[y_train == digit]  # Select training data for the current digit\n",
    "    X_class_test = X_test[y_test == digit]      # Select testing data for the current digit\n",
    "\n",
    "    pca_class = PCA(n_components=50)\n",
    "    X_class_train_pca = pca_class.fit_transform(X_class_train)  # PCA for current class\n",
    "    X_class_test_pca = pca_class.transform(X_class_test)        # Transform testing data for current class\n",
    "\n",
    "    # Append the PCA features for the current class\n",
    "    X_train_per_class.append(X_class_train_pca)\n",
    "    X_test_per_class.append(X_class_test_pca)\n"
   ]
  },
  {
   "cell_type": "code",
   "execution_count": null,
   "metadata": {},
   "outputs": [],
   "source": [
    "# Concatenate PCA features for all classes\n",
    "X_train_per_class = np.vstack(X_train_per_class)\n",
    "X_test_per_class = np.vstack(X_test_per_class)"
   ]
  },
  {
   "cell_type": "code",
   "execution_count": null,
   "metadata": {},
   "outputs": [],
   "source": [
    "# Create labels for the new training and testing sets\n",
    "y_train_per_class = np.repeat(\n",
    "    np.arange(10), [X_train[y_train == digit].shape[0] for digit in range(10)])\n",
    "y_test_per_class = np.repeat(\n",
    "    np.arange(10), [X_test[y_test == digit].shape[0] for digit in range(10)])"
   ]
  },
  {
   "cell_type": "code",
   "execution_count": null,
   "metadata": {},
   "outputs": [],
   "source": [
    "# Train XGBoost model with per-class PCA features\n",
    "model_per_class = xgb.XGBClassifier(\n",
    "    use_label_encoder=False, eval_metric='mlogloss')\n",
    "model_per_class.fit(X_train_per_class, y_train_per_class)"
   ]
  },
  {
   "cell_type": "code",
   "execution_count": null,
   "metadata": {},
   "outputs": [],
   "source": [
    "# Make predictions and evaluate accuracy\n",
    "y_pred_per_class = model_per_class.predict(X_test_per_class)\n",
    "accuracy_per_class = accuracy_score(y_test_per_class, y_pred_per_class)\n",
    "print(\n",
    "    f'Test accuracy with per-class PCA (500 components): {accuracy_per_class:.4f}')"
   ]
  }
 ],
 "metadata": {
  "language_info": {
   "name": "python"
  }
 },
 "nbformat": 4,
 "nbformat_minor": 2
}
